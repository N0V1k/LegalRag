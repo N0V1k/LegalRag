{
 "cells": [
  {
   "cell_type": "code",
   "execution_count": null,
   "id": "9f64d68f",
   "metadata": {},
   "outputs": [],
   "source": [
    "!pip install unsloth\n",
    "\n",
    "!pip install -q -U bitsandbytes==0.45.3\n",
    "!pip install -q -U git+https://github.com/huggingface/transformers.git\n",
    "!pip install -q -U git+https://github.com/huggingface/peft.git\n",
    "!pip install -q -U git+https://github.com/huggingface/accelerate.git"
   ]
  },
  {
   "cell_type": "code",
   "execution_count": 1,
   "id": "4bd0f5f8",
   "metadata": {},
   "outputs": [
    {
     "name": "stdout",
     "output_type": "stream",
     "text": [
      "🦥 Unsloth: Will patch your computer to enable 2x faster free finetuning.\n"
     ]
    },
    {
     "name": "stderr",
     "output_type": "stream",
     "text": [
      "/home/ubuntu/.venv/lib/python3.10/site-packages/tqdm/auto.py:21: TqdmWarning: IProgress not found. Please update jupyter and ipywidgets. See https://ipywidgets.readthedocs.io/en/stable/user_install.html\n",
      "  from .autonotebook import tqdm as notebook_tqdm\n"
     ]
    },
    {
     "name": "stdout",
     "output_type": "stream",
     "text": [
      "Unsloth: Failed to patch Gemma3ForConditionalGeneration.\n",
      "🦥 Unsloth Zoo will now patch everything to make training faster!\n"
     ]
    }
   ],
   "source": [
    "from unsloth import FastLanguageModel\n",
    "import torch\n",
    "\n",
    "max_seq_length = 8096 # Choose any! We auto support RoPE Scaling internally!\n",
    "dtype = None # None for auto detection. Float16 for Tesla T4, V100, Bfloat16 for Ampere+\n",
    "load_in_4bit = True"
   ]
  },
  {
   "cell_type": "code",
   "execution_count": 2,
   "id": "f649a62f",
   "metadata": {},
   "outputs": [],
   "source": [
    "import pandas as pd\n",
    "\n",
    "test_df = pd.read_csv('test_df').drop('Unnamed: 0', axis=1)\n",
    "train_df = pd.read_csv('train_df').drop('Unnamed: 0', axis=1)\n",
    "eval_df = pd.read_csv('eval_df').drop('Unnamed: 0', axis=1)\n"
   ]
  },
  {
   "cell_type": "code",
   "execution_count": 3,
   "id": "54deda58",
   "metadata": {},
   "outputs": [],
   "source": [
    "eval_df = eval_df.sample(frac=1, random_state=42)\n",
    "train_df = train_df.sample(frac=1, random_state=42)"
   ]
  },
  {
   "cell_type": "code",
   "execution_count": null,
   "id": "fb84ad5b",
   "metadata": {},
   "outputs": [],
   "source": [
    "model, tokenizer = FastLanguageModel.from_pretrained(\n",
    "    model_name = \"unsloth/Meta-Llama-3.1-8B\",\n",
    "    max_seq_length = max_seq_length,\n",
    "    dtype = dtype,\n",
    "    load_in_4bit = True,\n",
    "    # token = \"hf_...\", # use one if using gated models like meta-llama/Llama-2-7b-hf\n",
    ")"
   ]
  },
  {
   "cell_type": "code",
   "execution_count": null,
   "id": "47a5f345",
   "metadata": {},
   "outputs": [],
   "source": [
    "model = FastLanguageModel.get_peft_model(\n",
    "    model,\n",
    "    r = 32, # Choose any number > 0 ! Suggested 8, 16, 32, 64, 128\n",
    "    target_modules = [\"q_proj\", \"k_proj\", \"v_proj\", \"o_proj\",\n",
    "                      \"gate_proj\", \"up_proj\", \"down_proj\"],\n",
    "    lora_alpha = 16,\n",
    "    lora_dropout = 0, # Supports any, but = 0 is optimized\n",
    "    bias = \"none\",    # Supports any, but = \"none\" is optimized\n",
    "    # [NEW] \"unsloth\" uses 30% less VRAM, fits 2x larger batch sizes!\n",
    "    use_gradient_checkpointing = \"unsloth\", # True or \"unsloth\" for very long context\n",
    "    random_state = 3407,\n",
    "    use_rslora = False,  # We support rank stabilized LoRA\n",
    "    loftq_config = None, # And LoftQ\n",
    ")"
   ]
  },
  {
   "cell_type": "code",
   "execution_count": null,
   "id": "04a33293",
   "metadata": {},
   "outputs": [],
   "source": [
    "prompt_format = \"\"\"Ниже приведена инструкция, описывающая задачу, в сочетании с вводом, обеспечивающим контекст. \n",
    "Напиши ответ, который соответствующим образом отвечает на вопрос.\n",
    "\n",
    "### Instruction:\n",
    "Ты юридический консультант. Тебе дан контекст ситуации, в которой ты должен хорошо разобраться \n",
    "и дать короткий, но содержательный ответ на заданный вопрос.\n",
    "\n",
    "### Input:\n",
    "Контекст: {}\n",
    "\n",
    "Вопрос: {}\n",
    "\n",
    "### Response:\n",
    "{}\"\"\""
   ]
  },
  {
   "cell_type": "code",
   "execution_count": null,
   "id": "fe449bdb",
   "metadata": {},
   "outputs": [],
   "source": [
    "EOS_TOKEN = tokenizer.eos_token # Must add EOS_TOKEN\n",
    "def formatting_prompts_func(examples):\n",
    "    contexts   = examples[\"Контекст\"]\n",
    "    questions  = examples[\"Вопрос\"]\n",
    "    outputs    = examples[\"Ответ\"]\n",
    "    texts      = []\n",
    "    for context, question, output in zip(contexts, questions, outputs):\n",
    "        # Must add EOS_TOKEN, otherwise your generation will go on forever!\n",
    "        text = prompt_format.format(context, question, output) + EOS_TOKEN\n",
    "        texts.append(text)\n",
    "    return { \"text\" : texts, }\n",
    "pass"
   ]
  },
  {
   "cell_type": "code",
   "execution_count": null,
   "id": "ca10508b",
   "metadata": {},
   "outputs": [
    {
     "data": {
      "text/html": [
       "<div>\n",
       "<style scoped>\n",
       "    .dataframe tbody tr th:only-of-type {\n",
       "        vertical-align: middle;\n",
       "    }\n",
       "\n",
       "    .dataframe tbody tr th {\n",
       "        vertical-align: top;\n",
       "    }\n",
       "\n",
       "    .dataframe thead th {\n",
       "        text-align: right;\n",
       "    }\n",
       "</style>\n",
       "<table border=\"1\" class=\"dataframe\">\n",
       "  <thead>\n",
       "    <tr style=\"text-align: right;\">\n",
       "      <th></th>\n",
       "      <th>Контекст</th>\n",
       "      <th>Вопрос</th>\n",
       "      <th>Ответ</th>\n",
       "    </tr>\n",
       "  </thead>\n",
       "  <tbody>\n",
       "    <tr>\n",
       "      <th>0</th>\n",
       "      <td>Истец является собственником комнаты в коммуна...</td>\n",
       "      <td>Какие доказательства мне нужны для подтвержден...</td>\n",
       "      <td>Необходимы:  \\n- Заключение независимой оценки...</td>\n",
       "    </tr>\n",
       "    <tr>\n",
       "      <th>1</th>\n",
       "      <td>Пешеход (ФИО1) был оштрафован на 500 рублей за...</td>\n",
       "      <td>Можно ли избежать штрафа, если пешеходный пере...</td>\n",
       "      <td>Нет, п. 4.3 ПДД обязывает пешеходов переходить...</td>\n",
       "    </tr>\n",
       "    <tr>\n",
       "      <th>2</th>\n",
       "      <td>Страховая компания СПАО «Ингосстрах» выплатила...</td>\n",
       "      <td>Что делать, если страховая компания утверждает...</td>\n",
       "      <td>Требуйте от страховщика доказательств вашего у...</td>\n",
       "    </tr>\n",
       "    <tr>\n",
       "      <th>3</th>\n",
       "      <td>Водитель (истец) совершил наезд на стоящий авт...</td>\n",
       "      <td>Можно ли избежать лишения прав, если поврежден...</td>\n",
       "      <td>Возможно, но малозначительность (ст. 2.9 КоАП ...</td>\n",
       "    </tr>\n",
       "    <tr>\n",
       "      <th>4</th>\n",
       "      <td>ООО «Юрэнергоконсалт» было привлечено к админи...</td>\n",
       "      <td>Можно ли оспорить штраф за непредставление инф...</td>\n",
       "      <td>Да, можно. Если предписание, на котором основа...</td>\n",
       "    </tr>\n",
       "    <tr>\n",
       "      <th>...</th>\n",
       "      <td>...</td>\n",
       "      <td>...</td>\n",
       "      <td>...</td>\n",
       "    </tr>\n",
       "    <tr>\n",
       "      <th>11323</th>\n",
       "      <td>Юридическое лицо ООО «Краском» было привлечено...</td>\n",
       "      <td>Может ли неисполнение предписания органа пожар...</td>\n",
       "      <td>Да, если нарушение требований пожарной безопас...</td>\n",
       "    </tr>\n",
       "    <tr>\n",
       "      <th>11324</th>\n",
       "      <td>Директор ООО «Атлант» был привлечен к админист...</td>\n",
       "      <td>Можно ли избежать штрафа, если правонарушение ...</td>\n",
       "      <td>Да, возможно. Согласно ч. 1 ст. 4.1.1 КоАП РФ,...</td>\n",
       "    </tr>\n",
       "    <tr>\n",
       "      <th>11325</th>\n",
       "      <td>Дорожно-транспортное происшествие произошло ме...</td>\n",
       "      <td>Кто несет ответственность за вред, если автомо...</td>\n",
       "      <td>По ст. 1079 ГК РФ ответственность несет владел...</td>\n",
       "    </tr>\n",
       "    <tr>\n",
       "      <th>11326</th>\n",
       "      <td>В мае 2023 года произошло ДТП по вине водителя...</td>\n",
       "      <td>Можно ли взыскать неустойку за просрочку страх...</td>\n",
       "      <td>Да, по п. 21 ст. 12 Закона об ОСАГО неустойка ...</td>\n",
       "    </tr>\n",
       "    <tr>\n",
       "      <th>11327</th>\n",
       "      <td>Истец владеет автомобилем Kia Rio, который пол...</td>\n",
       "      <td>Могу ли я взыскать с виновника ДТП разницу меж...</td>\n",
       "      <td>Да, согласно ст. 1072 ГК РФ, если страхового в...</td>\n",
       "    </tr>\n",
       "  </tbody>\n",
       "</table>\n",
       "<p>11328 rows × 3 columns</p>\n",
       "</div>"
      ],
      "text/plain": [
       "                                                Контекст  \\\n",
       "0      Истец является собственником комнаты в коммуна...   \n",
       "1      Пешеход (ФИО1) был оштрафован на 500 рублей за...   \n",
       "2      Страховая компания СПАО «Ингосстрах» выплатила...   \n",
       "3      Водитель (истец) совершил наезд на стоящий авт...   \n",
       "4      ООО «Юрэнергоконсалт» было привлечено к админи...   \n",
       "...                                                  ...   \n",
       "11323  Юридическое лицо ООО «Краском» было привлечено...   \n",
       "11324  Директор ООО «Атлант» был привлечен к админист...   \n",
       "11325  Дорожно-транспортное происшествие произошло ме...   \n",
       "11326  В мае 2023 года произошло ДТП по вине водителя...   \n",
       "11327  Истец владеет автомобилем Kia Rio, который пол...   \n",
       "\n",
       "                                                  Вопрос  \\\n",
       "0      Какие доказательства мне нужны для подтвержден...   \n",
       "1      Можно ли избежать штрафа, если пешеходный пере...   \n",
       "2      Что делать, если страховая компания утверждает...   \n",
       "3      Можно ли избежать лишения прав, если поврежден...   \n",
       "4      Можно ли оспорить штраф за непредставление инф...   \n",
       "...                                                  ...   \n",
       "11323  Может ли неисполнение предписания органа пожар...   \n",
       "11324  Можно ли избежать штрафа, если правонарушение ...   \n",
       "11325  Кто несет ответственность за вред, если автомо...   \n",
       "11326  Можно ли взыскать неустойку за просрочку страх...   \n",
       "11327  Могу ли я взыскать с виновника ДТП разницу меж...   \n",
       "\n",
       "                                                   Ответ  \n",
       "0      Необходимы:  \\n- Заключение независимой оценки...  \n",
       "1      Нет, п. 4.3 ПДД обязывает пешеходов переходить...  \n",
       "2      Требуйте от страховщика доказательств вашего у...  \n",
       "3      Возможно, но малозначительность (ст. 2.9 КоАП ...  \n",
       "4      Да, можно. Если предписание, на котором основа...  \n",
       "...                                                  ...  \n",
       "11323  Да, если нарушение требований пожарной безопас...  \n",
       "11324  Да, возможно. Согласно ч. 1 ст. 4.1.1 КоАП РФ,...  \n",
       "11325  По ст. 1079 ГК РФ ответственность несет владел...  \n",
       "11326  Да, по п. 21 ст. 12 Закона об ОСАГО неустойка ...  \n",
       "11327  Да, согласно ст. 1072 ГК РФ, если страхового в...  \n",
       "\n",
       "[11328 rows x 3 columns]"
      ]
     },
     "execution_count": 11,
     "metadata": {},
     "output_type": "execute_result"
    }
   ],
   "source": [
    "train_df = train_df.reset_index().drop('index', axis=1)\n",
    "eval_df = eval_df.reset_index().drop('index', axis=1)\n",
    "train_df"
   ]
  },
  {
   "cell_type": "code",
   "execution_count": null,
   "id": "90cc229d",
   "metadata": {},
   "outputs": [],
   "source": [
    "from datasets import Dataset\n",
    "\n",
    "train_ds = Dataset.from_pandas(train_df)\n",
    "eval_ds = Dataset.from_pandas(eval_df)\n",
    "test_ds = Dataset.from_pandas(test_df)"
   ]
  },
  {
   "cell_type": "code",
   "execution_count": null,
   "id": "2533f34d",
   "metadata": {},
   "outputs": [
    {
     "name": "stderr",
     "output_type": "stream",
     "text": [
      "Map:   0%|          | 0/11328 [00:00<?, ? examples/s]"
     ]
    },
    {
     "name": "stderr",
     "output_type": "stream",
     "text": [
      "Map: 100%|██████████| 11328/11328 [00:00<00:00, 41642.08 examples/s]\n",
      "Map: 100%|██████████| 297/297 [00:00<00:00, 35614.05 examples/s]\n",
      "Map: 100%|██████████| 300/300 [00:00<00:00, 39893.83 examples/s]\n"
     ]
    }
   ],
   "source": [
    "train_ds = train_ds.map(formatting_prompts_func, batched = True)\n",
    "eval_ds = eval_ds.map(formatting_prompts_func, batched = True)\n",
    "test_ds = test_ds.map(formatting_prompts_func, batched = True)"
   ]
  },
  {
   "cell_type": "code",
   "execution_count": null,
   "id": "9809ca6e",
   "metadata": {},
   "outputs": [],
   "source": [
    "from transformers import TrainingArguments\n",
    "from unsloth import is_bfloat16_supported\n",
    "\n",
    "BATCH_SIZE = 256\n",
    "GRADIENT_ACCUMULATION_STEPS = 1\n",
    "LEARNING_RATE = 2e-4\n",
    "TRAIN_STEPS = 500\n",
    "TRAIN_EPOCHS = 3\n",
    "OUTPUT_DIR = \"./QLoRA_64_2_3\"\n",
    "\n",
    "training_arguments = TrainingArguments(\n",
    "    per_device_train_batch_size = BATCH_SIZE,\n",
    "    gradient_accumulation_steps = GRADIENT_ACCUMULATION_STEPS,\n",
    "    warmup_steps = 50,\n",
    "    num_train_epochs = TRAIN_EPOCHS, # Set this for 1 full training run.\n",
    "    #max_steps = TRAIN_STEPS,\n",
    "    learning_rate = LEARNING_RATE,\n",
    "    fp16 = not is_bfloat16_supported(),\n",
    "    bf16 = is_bfloat16_supported(),\n",
    "    logging_steps = 1,\n",
    "    eval_strategy = \"steps\",\n",
    "    save_strategy = \"steps\",\n",
    "    eval_steps = 1,\n",
    "    save_steps = 1,\n",
    "    save_total_limit = 3,\n",
    "    load_best_model_at_end = True,\n",
    "    optim = \"adamw_8bit\",\n",
    "    weight_decay = 0.01,\n",
    "    lr_scheduler_type = \"linear\",\n",
    "    seed = 3407,\n",
    "    output_dir = OUTPUT_DIR,\n",
    "    report_to = \"wandb\" #\"tensorboard\", # Use this for WandB etc\n",
    "    # overwrite_output_dir=True\n",
    ")"
   ]
  },
  {
   "cell_type": "code",
   "execution_count": null,
   "id": "553081d4",
   "metadata": {},
   "outputs": [
    {
     "name": "stderr",
     "output_type": "stream",
     "text": [
      "Unsloth: Tokenizing [\"text\"] (num_proc=2): 100%|██████████| 11328/11328 [00:06<00:00, 1663.26 examples/s]\n",
      "Unsloth: Tokenizing [\"text\"] (num_proc=2): 100%|██████████| 297/297 [00:01<00:00, 235.45 examples/s]\n"
     ]
    }
   ],
   "source": [
    "from trl import SFTTrainer\n",
    "from transformers import TrainingArguments\n",
    "from unsloth import is_bfloat16_supported\n",
    "\n",
    "trainer = SFTTrainer(\n",
    "    model = model,\n",
    "    tokenizer = tokenizer,\n",
    "    train_dataset = train_ds,\n",
    "    eval_dataset = eval_ds,\n",
    "    dataset_text_field = \"text\",\n",
    "    max_seq_length = 2048,\n",
    "    dataset_num_proc = 2,\n",
    "    packing = False, # Can make training 5x faster for short sequences.\n",
    "    args = training_arguments,\n",
    ")"
   ]
  },
  {
   "cell_type": "code",
   "execution_count": null,
   "id": "f48ed5c9",
   "metadata": {},
   "outputs": [],
   "source": [
    "trainer_stats = trainer.train()"
   ]
  },
  {
   "cell_type": "code",
   "execution_count": null,
   "id": "d3ee69a8",
   "metadata": {},
   "outputs": [],
   "source": [
    "from huggingface_hub import login\n",
    "login(hf_token)"
   ]
  },
  {
   "cell_type": "code",
   "execution_count": null,
   "id": "61732f16",
   "metadata": {},
   "outputs": [],
   "source": [
    "model.save_pretrained(\"./qlora_64_2_3\") \n",
    "tokenizer.save_pretrained(\"./qlora_64_2_3\")"
   ]
  },
  {
   "cell_type": "code",
   "execution_count": null,
   "id": "fecc5e43",
   "metadata": {},
   "outputs": [],
   "source": [
    "model.push_to_hub(\"foxxar04/llama_qlora\")\n",
    "tokenizer.push_to_hub(\"foxxar04/llama_qlora\")"
   ]
  }
 ],
 "metadata": {
  "kernelspec": {
   "display_name": "Python 3",
   "language": "python",
   "name": "python3"
  },
  "language_info": {
   "codemirror_mode": {
    "name": "ipython",
    "version": 3
   },
   "file_extension": ".py",
   "mimetype": "text/x-python",
   "name": "python",
   "nbconvert_exporter": "python",
   "pygments_lexer": "ipython3",
   "version": "3.10.12"
  }
 },
 "nbformat": 4,
 "nbformat_minor": 5
}
